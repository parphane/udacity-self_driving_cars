{
 "cells": [
  {
   "cell_type": "markdown",
   "metadata": {},
   "source": [
    "# Self-Driving Car Engineer Nanodegree\n",
    "\n",
    "## Deep Learning\n",
    "\n",
    "## Project: Build a Traffic Sign Recognition Classifier\n",
    "\n",
    "In this notebook, a template is provided for you to implement your functionality in stages, which is required to successfully complete this project. If additional code is required that cannot be included in the notebook, be sure that the Python code is successfully imported and included in your submission if necessary. \n",
    "\n",
    "> **Note**: Once you have completed all of the code implementations, you need to finalize your work by exporting the iPython Notebook as an HTML document. Before exporting the notebook to html, all of the code cells need to have been run so that reviewers can see the final implementation and output. You can then export the notebook by using the menu above and navigating to  \\n\",\n",
    "    \"**File -> Download as -> HTML (.html)**. Include the finished document along with this notebook as your submission. \n",
    "\n",
    "In addition to implementing code, there is a writeup to complete. The writeup should be completed in a separate file, which can be either a markdown file or a pdf document. There is a [write up template](https://github.com/udacity/CarND-Traffic-Sign-Classifier-Project/blob/master/writeup_template.md) that can be used to guide the writing process. Completing the code template and writeup template will cover all of the [rubric points](https://review.udacity.com/#!/rubrics/481/view) for this project.\n",
    "\n",
    "The [rubric](https://review.udacity.com/#!/rubrics/481/view) contains \"Stand Out Suggestions\" for enhancing the project beyond the minimum requirements. The stand out suggestions are optional. If you decide to pursue the \"stand out suggestions\", you can include the code in this Ipython notebook and also discuss the results in the writeup file.\n",
    "\n",
    "\n",
    ">**Note:** Code and Markdown cells can be executed using the **Shift + Enter** keyboard shortcut. In addition, Markdown cells can be edited by typically double-clicking the cell to enter edit mode."
   ]
  },
  {
   "cell_type": "markdown",
   "metadata": {},
   "source": [
    "## Credits\n",
    "List of websites / repositories that helped reach this solution:\n",
    "\n",
    "General help\n",
    "* https://medium.com/udacity/the-traffic-sign-classifier-project-1c85a2eb9db5\n",
    "* https://markbroerkens.github.io/CarND-Traffic-Sign-Classifier-Project/\n",
    "* https://github.com/udacity/CarND-Traffic-Sign-Classifier-Project\n",
    "\n",
    "TensorFlow 2 tutorials (abandonned idea of migrating for now)\n",
    "* https://www.tensorflow.org/tutorials/quickstart/advanced\n",
    "* http://datahacker.rs/lenet-5-implementation-tensorflow-2-0/\n",
    "* https://www.tensorflow.org/api_docs/python/tf/keras/losses\n",
    "\n",
    "Help for augmentation\n",
    "* https://github.com/jeremy-shannon/CarND-Traffic-Sign-Classifier-Project\n",
    "* https://github.com/sharathsrini/Traffic-Sign-Classifier\n",
    "\n",
    "Great presentation suggestions\n",
    "* https://github.com/shazraz/Traffic-Sign-Classifier/blob/master/Traffic_Sign_Classifier.ipynb"
   ]
  },
  {
   "cell_type": "code",
   "execution_count": null,
   "metadata": {},
   "outputs": [],
   "source": [
    "# Environment\n",
    "# Python 3.7, TensorFlow 1.15\n",
    "\n",
    "import pickle # To load training/validation/test data\n",
    "import matplotlib.pyplot as plt # For all plots\n",
    "import csv # For sign names\n",
    "import cv2 # For reading images and images operations\n",
    "import random # For random sign display\n",
    "import math # For generic math operations\n",
    "import numpy as np\n",
    "from os import listdir # For getting all images in new images folder\n",
    "from os.path import isfile, join # Checking if file is file or directory / building file path\n",
    "\n",
    "import tensorflow as tf # For learning\n",
    "\n",
    "# from tensorflow.contrib.layers import flatten # Replacedd by tf.keras.layers.Flatten()"
   ]
  },
  {
   "cell_type": "markdown",
   "metadata": {},
   "source": [
    "---\n",
    "## Step 0: Load The Data"
   ]
  },
  {
   "cell_type": "code",
   "execution_count": null,
   "metadata": {},
   "outputs": [],
   "source": [
    "training_file = \"./data/train.p\"\n",
    "validation_file= \"./data/valid.p\"\n",
    "testing_file = \"./data/test.p\"\n",
    "\n",
    "with open(training_file, mode='rb') as f:\n",
    "    train = pickle.load(f)\n",
    "with open(validation_file, mode='rb') as f:\n",
    "    valid = pickle.load(f)\n",
    "with open(testing_file, mode='rb') as f:\n",
    "    test = pickle.load(f)\n",
    "    \n",
    "X_train, y_train = train['features'], train['labels']\n",
    "X_valid, y_valid = valid['features'], valid['labels']\n",
    "X_test, y_test = test['features'], test['labels']"
   ]
  },
  {
   "cell_type": "markdown",
   "metadata": {},
   "source": [
    "---\n",
    "\n",
    "## Step 1: Dataset Summary & Exploration\n",
    "\n",
    "The pickled data is a dictionary with 4 key/value pairs:\n",
    "\n",
    "- `'features'` is a 4D array containing raw pixel data of the traffic sign images, (num examples, width, height, channels).\n",
    "- `'labels'` is a 1D array containing the label/class id of the traffic sign. The file `signnames.csv` contains id -> name mappings for each id.\n",
    "- `'sizes'` is a list containing tuples, (width, height) representing the original width and height the image.\n",
    "- `'coords'` is a list containing tuples, (x1, y1, x2, y2) representing coordinates of a bounding box around the sign in the image. **THESE COORDINATES ASSUME THE ORIGINAL IMAGE. THE PICKLED DATA CONTAINS RESIZED VERSIONS (32 by 32) OF THESE IMAGES**\n",
    "\n",
    "Complete the basic data summary below. Use python, numpy and/or pandas methods to calculate the data summary rather than hard coding the results. For example, the [pandas shape method](http://pandas.pydata.org/pandas-docs/stable/generated/pandas.DataFrame.shape.html) might be useful for calculating some of the summary results. "
   ]
  },
  {
   "cell_type": "markdown",
   "metadata": {},
   "source": [
    "### Provide a Basic Summary of the Data Set Using Python, Numpy and/or Pandas"
   ]
  },
  {
   "cell_type": "code",
   "execution_count": null,
   "metadata": {},
   "outputs": [],
   "source": [
    "### Replace each question mark with the appropriate value. \n",
    "### Use python, pandas or numpy methods rather than hard coding the results\n",
    "\n",
    "# TODO: Number of training examples\n",
    "n_train = len(X_train)\n",
    "\n",
    "# TODO: Number of validation examples\n",
    "n_validation = len(X_valid)\n",
    "\n",
    "# TODO: Number of testing examples.\n",
    "n_test = len(X_test)\n",
    "\n",
    "# TODO: What's the shape of an traffic sign image?\n",
    "image_shape = X_train[0].shape\n",
    "\n",
    "# TODO: How many unique classes/labels there are in the dataset.\n",
    "n_classes = len(np.unique(y_train))\n",
    "\n",
    "print(\"Number of training examples =\", n_train)\n",
    "print(\"Number of validation examples =\", n_validation)\n",
    "print(\"Number of testing examples =\", n_test)\n",
    "print(\"Image data shape =\", image_shape)\n",
    "print(\"Number of classes =\", n_classes)"
   ]
  },
  {
   "cell_type": "markdown",
   "metadata": {},
   "source": [
    "### Include an exploratory visualization of the dataset"
   ]
  },
  {
   "cell_type": "markdown",
   "metadata": {},
   "source": [
    "Visualize the German Traffic Signs Dataset using the pickled file(s). This is open ended, suggestions include: plotting traffic sign images, plotting the count of each sign, etc. \n",
    "\n",
    "The [Matplotlib](http://matplotlib.org/) [examples](http://matplotlib.org/examples/index.html) and [gallery](http://matplotlib.org/gallery.html) pages are a great resource for doing visualizations in Python.\n",
    "\n",
    "**NOTE:** It's recommended you start with something simple first. If you wish to do more, come back to it after you've completed the rest of the sections. It can be interesting to look at the distribution of classes in the training, validation and test set. Is the distribution the same? Are there more examples of some classes than others?"
   ]
  },
  {
   "cell_type": "code",
   "execution_count": null,
   "metadata": {},
   "outputs": [],
   "source": [
    "### Data exploration visualization code goes here.\n",
    "### Feel free to use as many code cells as needed.\n",
    "import matplotlib.pyplot as plt\n",
    "# Visualizations will be shown in the notebook.\n",
    "%matplotlib inline"
   ]
  },
  {
   "cell_type": "markdown",
   "metadata": {},
   "source": [
    "#### Retrieve labels sign names"
   ]
  },
  {
   "cell_type": "code",
   "execution_count": null,
   "metadata": {},
   "outputs": [],
   "source": [
    "# Array to map label ids to sign names\n",
    "labels_sign_name = {}\n",
    "\n",
    "with open('signnames.csv') as csvfile:\n",
    "    reader = csv.reader(csvfile)\n",
    "    headers = next(reader) \n",
    "    for row in reader:\n",
    "        # Visualized with images\n",
    "        #print(\"{:>2} = {}\".format(row[0], row[1]))\n",
    "        labels_sign_name[int(row[0])] = row[1]"
   ]
  },
  {
   "cell_type": "markdown",
   "metadata": {},
   "source": [
    "#### Visualize random images and labels"
   ]
  },
  {
   "cell_type": "code",
   "execution_count": null,
   "metadata": {},
   "outputs": [],
   "source": [
    "# Plots images and labels passed in parameter\n",
    "def plot_imgs(imgs,lbls=None, header=None, gray=False, imgs_limit=100):\n",
    "    # Prevent long processing time if not explicitely asked by setting display limit\n",
    "    if(imgs_limit > len(imgs)):\n",
    "        imgs_limit = len(imgs)\n",
    "    \n",
    "    # Determine size of subplots matrix\n",
    "    figsize=(20,3.5)\n",
    "    cols=6\n",
    "    rows = math.ceil(imgs_limit/cols)\n",
    "    #gridspec_kw={'width_ratios': [3, 1]}\n",
    "    fig, axs = plt.subplots(rows, cols, figsize=(figsize[0], figsize[1]*rows))\n",
    "    fig.subplots_adjust(hspace = .1, wspace=.1)\n",
    "    # Transform matrix of subplots to a flattened one-dimensional array\n",
    "    axs = axs.ravel()\n",
    "    \n",
    "    # Display each image in subplots\n",
    "    for i in range(imgs_limit):\n",
    "        try:            \n",
    "            axs[i].axis('off')\n",
    "            if(gray):\n",
    "                axs[i].imshow(imgs[i], cmap='gray')\n",
    "            else:\n",
    "                axs[i].imshow(imgs[i])\n",
    "            title = \"\"\n",
    "            if header is not None:\n",
    "                title = header[i]\n",
    "            if lbls is not None: \n",
    "                title = title + \"{:>2}:{:.25}\".format(lbls[i], labels_sign_name[lbls[i]])\n",
    "            axs[i].set_title(\"{:.30}\".format(title), fontsize=12)\n",
    "        except:\n",
    "            print(\"Image:{} | Label:{} | Label name:{} | Shape:{}\".format(i, lbls[i], labels_sign_name[lbls[i]], imgs[i].shape))\n",
    "            raise\n",
    "    # Hide unused subplots\n",
    "    while i < len(axs):\n",
    "        axs[i].axis('off')\n",
    "        i = i + 1\n",
    "    plt.show()\n",
    "\n",
    "def rand_lbl_index(labels, label):\n",
    "    indices, = np.nonzero(labels==label)\n",
    "    index = np.random.choice(indices)\n",
    "    return index\n",
    "    \n",
    "def rand_lbl_img(imgs, labels, label):\n",
    "    index = rand_lbl_index(labels, label)    \n",
    "    return imgs[index]\n",
    "    \n",
    "# Plot 1 image per labels\n",
    "def plot_lbl_imgs(imgs, lbls, gray=False):\n",
    "    # Transform labels into a list, once, to use index function\n",
    "    lbls_list = lbls.tolist()\n",
    "    imgs_each = []\n",
    "    lbls_each = []\n",
    "    \n",
    "    # For each unique label in available images\n",
    "    for lbl in np.unique(lbls):        \n",
    "        try:        \n",
    "            # Append label value\n",
    "            lbls_each.append(lbl)\n",
    "            # Find index of random occurence of label in the list and append\n",
    "            imgs_each.append(rand_lbl_img(imgs, lbls, lbl))     \n",
    "        except ValueError:\n",
    "            if(labels_sign_name is None):\n",
    "                print(\"Could not find image for label {:>2}\".format(key))\n",
    "            else:\n",
    "                print(\"Could not find image for label {:>2}:{}\".format(key, labels_sign_name[key]))\n",
    "            pass\n",
    "\n",
    "    plot_imgs(imgs_each,lbls_each, gray=gray)"
   ]
  },
  {
   "cell_type": "code",
   "execution_count": null,
   "metadata": {},
   "outputs": [],
   "source": [
    "# Visualizations will be shown in the notebook.\n",
    "\n",
    "# Pick the first image from the training set for each sign and display its name\n",
    "plot_lbl_imgs(X_train,y_train, gray=False)"
   ]
  },
  {
   "cell_type": "markdown",
   "metadata": {},
   "source": [
    "#### Analyze arrangement of training data"
   ]
  },
  {
   "cell_type": "code",
   "execution_count": null,
   "metadata": {},
   "outputs": [],
   "source": [
    "for lbl_id, lbl_desc in labels_sign_name.items():\n",
    "    n_lbl_imgs = len(np.where(y_train == lbl_id)[0])\n",
    "    print(\"{0:5} - {1:2}:{2:50}\".format(n_lbl_imgs, lbl_id, lbl_desc), end='')\n",
    "    if(lbl_id%2 == 1):\n",
    "        print('')"
   ]
  },
  {
   "cell_type": "code",
   "execution_count": null,
   "metadata": {},
   "outputs": [],
   "source": [
    "fig, (ax11, ax21) = plt.subplots(2, 1, figsize=(20, 10))\n",
    "ax11.pcolor(np.asarray([y_train]), cmap = 'Greys')\n",
    "ax11.set_title(\"Repartition of the {} signs from training set\".format(len(y_train)), fontsize=18)\n",
    "ax11.tick_params(axis='both', which='major', labelsize=13)\n",
    "ax21.hist(np.asarray(y_train), bins=n_classes, rwidth=0.75, color=\"Grey\")\n",
    "\n",
    "plt.show()"
   ]
  },
  {
   "cell_type": "markdown",
   "metadata": {},
   "source": [
    "----\n",
    "\n",
    "## Step 2: Design and Test a Model Architecture\n",
    "\n",
    "Design and implement a deep learning model that learns to recognize traffic signs. Train and test your model on the [German Traffic Sign Dataset](http://benchmark.ini.rub.de/?section=gtsrb&subsection=dataset).\n",
    "\n",
    "The LeNet-5 implementation shown in the [classroom](https://classroom.udacity.com/nanodegrees/nd013/parts/168c60f1-cc92-450a-a91b-e427c326e6a7/modules/95d62426-4da9-49a6-9195-603e0f81d3f1/lessons/fe16d91d-bc00-455b-bc7b-a61b5e55d473/concepts/58b70b90-05a6-40c5-8b7a-e97079cb3848) at the end of the CNN lesson is a solid starting point. You'll have to change the number of classes and possibly the preprocessing, but aside from that it's plug and play! \n",
    "\n",
    "With the LeNet-5 solution from the lecture, you should expect a validation set accuracy of about 0.89. To meet specifications, the validation set accuracy will need to be at least 0.93. It is possible to get an even higher accuracy, but 0.93 is the minimum for a successful project submission. \n",
    "\n",
    "There are various aspects to consider when thinking about this problem:\n",
    "\n",
    "- Neural network architecture (is the network over or underfitting?)\n",
    "- Play around preprocessing techniques (normalization, rgb to grayscale, etc)\n",
    "- Number of examples per label (some have more than others).\n",
    "- Generate fake data.\n",
    "\n",
    "Here is an example of a [published baseline model on this problem](http://yann.lecun.com/exdb/publis/pdf/sermanet-ijcnn-11.pdf). It's not required to be familiar with the approach used in the paper but, it's good practice to try to read papers like these."
   ]
  },
  {
   "cell_type": "markdown",
   "metadata": {},
   "source": [
    "### Pre-process the Data Set (normalization, grayscale, etc.)"
   ]
  },
  {
   "cell_type": "markdown",
   "metadata": {},
   "source": [
    "Minimally, the image data should be normalized so that the data has mean zero and equal variance. For image data, `(pixel - 128)/ 128` is a quick way to approximately normalize the data and can be used in this project. \n",
    "\n",
    "Other pre-processing steps are optional. You can try different techniques to see if it improves performance. \n",
    "\n",
    "Use the code cell (or multiple code cells, if necessary) to implement the first step of your project."
   ]
  },
  {
   "cell_type": "code",
   "execution_count": null,
   "metadata": {},
   "outputs": [],
   "source": [
    "### Preprocess the data here. It is required to normalize the data. Other preprocessing steps could include \n",
    "### converting to grayscale, etc.\n",
    "### Feel free to use as many code cells as needed."
   ]
  },
  {
   "cell_type": "markdown",
   "metadata": {},
   "source": [
    "#### Resize data\n",
    "No need for the pickled image, the pickled list is already 32*32.<br/>\n",
    "Assuming all processed images are square (if not, distortion will occur while resizing)"
   ]
  },
  {
   "cell_type": "code",
   "execution_count": null,
   "metadata": {},
   "outputs": [],
   "source": [
    "def resize_img(img, w=32, h=32, interpolation=cv2.INTER_AREA):\n",
    "    # INTER_AREA is the closest to PIL ANTIALIAS\n",
    "    dst = cv2.resize(img, (w, h),  interpolation=interpolation)\n",
    "    #img.thumbnail((w, w), Image.ANTIALIAS)\n",
    "    return dst"
   ]
  },
  {
   "cell_type": "markdown",
   "metadata": {},
   "source": [
    "#### Augment dataset\n",
    "Augmentation methods used:\n",
    " * Random horizontal / vertical translate\n",
    " * Random rotate (almost same result as perspective warp would do)\n",
    " * Random scale (zoom/unzoom)\n",
    " * Random perspective warp (as used in lane finding)\n",
    " * Random brightness change"
   ]
  },
  {
   "cell_type": "code",
   "execution_count": null,
   "metadata": {},
   "outputs": [],
   "source": [
    "# https://opencv-python-tutroals.readthedocs.io/en/latest/py_tutorials/py_imgproc/py_geometric_transformations/py_geometric_transformations.html#translation\n",
    "def rand_translate(img, px=2):\n",
    "    # _ for unrelevant color axis shape\n",
    "    rows,cols,_ = img.shape\n",
    "    \n",
    "    # Allow translation from -2 to 2 pixels for x and y (2) directions    \n",
    "    d_x, d_y = np.random.randint(-px,px,2)\n",
    "    \n",
    "    # Translate from d_x / d_y pixels and leave black pixels behind\n",
    "    M = np.float32([[1,0,d_x],[0,1,d_y]])\n",
    "    dst = cv2.warpAffine(img,M,(cols,rows))\n",
    "    \n",
    "    return dst\n",
    "\n",
    "# https://opencv-python-tutroals.readthedocs.io/en/latest/py_tutorials/py_imgproc/py_geometric_transformations/py_geometric_transformations.html#rotation\n",
    "def rand_rotate(img, theta=5):\n",
    "    # _ for unrelevant color axis shape\n",
    "    rows,cols,_ = img.shape\n",
    "    \n",
    "    # Allow rotation from -theta to +theta degrees \n",
    "    d_theta = np.random.randint(-theta,theta)\n",
    "    \n",
    "    # Rotate from d_theta degrees and leave black pixels behind    \n",
    "    M = cv2.getRotationMatrix2D((cols/2,rows/2),d_theta,1)\n",
    "    dst = cv2.warpAffine(img,M,(cols,rows))\n",
    "    \n",
    "    return dst\n",
    "\n",
    "def rand_scale(img, px=2):\n",
    "    # _ for unrelevant color axis shape\n",
    "    rows,cols,_ = img.shape\n",
    "    \n",
    "    # Allow scaling to be between -px to +px pixels from the corners\n",
    "    d_px = np.random.randint(-px,px)\n",
    "    \n",
    "    # Source edges location\n",
    "    src_pts = np.float32([[0,0],[rows,0],[0,cols],[rows,cols]])\n",
    "    # Destination edges location    \n",
    "    dst_pts = np.float32([[d_px,d_px],[rows-d_px,d_px],[d_px,cols-d_px],[rows-d_px,cols-d_px]])\n",
    "    \n",
    "    # Scale zoom in or out\n",
    "    M = cv2.getPerspectiveTransform(dst_pts, src_pts)    \n",
    "    dst = cv2.warpPerspective(img,M,(cols,rows))\n",
    "    \n",
    "    return dst\n",
    "\n",
    "# https://opencv-python-tutroals.readthedocs.io/en/latest/py_tutorials/py_imgproc/py_geometric_transformations/py_geometric_transformations.html#perspective-transformation\n",
    "def rand_perspective(img, px=2):\n",
    "    # _ for unrelevant color axis shape\n",
    "    rows,cols,_ = img.shape\n",
    "    \n",
    "    # Allow perspective destination points to be between -px to +px pixels from the corners\n",
    "    d_tl_x, d_tl_y, d_bl_x, d_bl_y, d_tr_x, d_tr_y, d_br_x, d_br_y = np.random.randint(-px,px,8)\n",
    "    \n",
    "    # Source edges location\n",
    "    src_pts = np.float32([[0,0],[rows,0],[0,cols],[rows,cols]])\n",
    "    # Destination edges location    \n",
    "    dst_pts = np.float32([[d_tl_x,d_tl_y],[rows-d_bl_x,d_bl_y],[d_tr_x,cols-d_tr_y],[rows-d_br_x,cols-d_br_y]])\n",
    "    \n",
    "    # Warp\n",
    "    M = cv2.getPerspectiveTransform(dst_pts, src_pts)\n",
    "    dst = cv2.warpPerspective(img,M,(cols,rows))\n",
    "    \n",
    "    return dst\n",
    "\n",
    "def rand_hsv_channel(img, channel, shift=32):\n",
    "    rows,cols,_ = img.shape\n",
    "        \n",
    "    # Transform image to HSV to easily manipulate brightness/saturation\n",
    "    hsv = cv2.cvtColor(img, cv2.COLOR_RGB2HSV)\n",
    "    \n",
    "    # Allow channel shift to be between -shift to +shift V\n",
    "    d_shift = np.random.randint(-shift,shift)\n",
    "    hsv[:,:,channel] = cv2.add(hsv[:,:,channel],d_shift)    \n",
    "    dst = cv2.cvtColor(hsv, cv2.COLOR_HSV2RGB)\n",
    "    return dst\n",
    "\n",
    "def rand_hsv_v(img, shift=64):\n",
    "    return rand_hsv_channel(img, 2, shift=32)\n",
    "\n",
    "def rand_hsv_s(img, shift=64):\n",
    "    return rand_hsv_channel(img, 1, shift=32)"
   ]
  },
  {
   "cell_type": "code",
   "execution_count": null,
   "metadata": {},
   "outputs": [],
   "source": [
    "def rand_transform(img):\n",
    "    # Translate, Change perspective (can result in zoom in or out or even rotation), Brightness adjust\n",
    "    return rand_translate(rand_perspective(rand_hsv_v(img)))\n",
    "\n",
    "def augment_lbl(imgs, lbls, min_count=750):\n",
    "    # Assuming RGB images for shape\n",
    "    rand_imgs = np.empty_like(imgs, shape=(0, imgs.shape[1], imgs.shape[2], imgs.shape[3]))    \n",
    "    rand_lbls = np.empty_like(lbls, shape=(0))\n",
    "    \n",
    "    # For each label\n",
    "    for lbl in np.unique(lbls):\n",
    "        # Augment any data up to min_count if necessary\n",
    "        lbl_list = np.where(lbls == lbl)[0]\n",
    "        lbl_count = len(lbl_list)\n",
    "        lbl_augment = min_count - lbl_count\n",
    "        if lbl_augment > 0:\n",
    "            print(\"Label {0:2}: {1:5} images - {2} augmentations required\".format(lbl, lbl_count, lbl_augment))\n",
    "            # Add as many augmented images as necessary\n",
    "            for i in range(lbl_augment):\n",
    "                # Pick images one after the other, and loop if necessary\n",
    "                rand_img = imgs[lbl_list[i % lbl_count]]\n",
    "                rand_img = rand_transform(rand_img)\n",
    "                rand_imgs = np.concatenate((rand_imgs, [rand_img]))\n",
    "                rand_lbls = np.concatenate((rand_lbls, [lbl]))\n",
    "        else:\n",
    "            pass\n",
    "            #print(\"Label {0:2}: {1:5} images - No augmentation required\".format(lbl, lbl_count))\n",
    "\n",
    "    return rand_imgs, rand_lbls"
   ]
  },
  {
   "cell_type": "code",
   "execution_count": null,
   "metadata": {},
   "outputs": [],
   "source": [
    "X_augm, y_augm = augment_lbl(X_train, y_train, min_count=750)    \n",
    "\n",
    "# Pick the first image from the training set for each sign and display its name\n",
    "plot_lbl_imgs(X_augm,y_augm, gray=False)\n"
   ]
  },
  {
   "cell_type": "code",
   "execution_count": null,
   "metadata": {},
   "outputs": [],
   "source": [
    "print(\"Adding {} augmented images to the initial {} images\".format(len(X_augm), len(X_train)))\n",
    "X_augm = np.concatenate((X_train, X_augm))\n",
    "y_augm = np.concatenate((y_train, y_augm))"
   ]
  },
  {
   "cell_type": "code",
   "execution_count": null,
   "metadata": {},
   "outputs": [],
   "source": [
    "fig, (ax11, ax21) = plt.subplots(2, 1, figsize=(20, 10))\n",
    "ax11.pcolor(np.asarray([y_augm]), cmap = 'Greys')\n",
    "ax11.set_title(\"Repartition of the {} initial + augmented signs from training set\".format(len(y_augm)), fontsize=18)\n",
    "ax11.tick_params(axis='both', which='major', labelsize=13)\n",
    "ax21.hist(np.asarray(y_augm), bins=n_classes, rwidth=0.75, color=\"Grey\")\n",
    "\n",
    "plt.show()"
   ]
  },
  {
   "cell_type": "markdown",
   "metadata": {},
   "source": [
    "#### Grayscale"
   ]
  },
  {
   "cell_type": "code",
   "execution_count": null,
   "metadata": {},
   "outputs": [],
   "source": [
    "# Grayscale\n",
    "\n",
    "# https://stackoverflow.com/questions/12201577/how-can-i-convert-an-rgb-image-into-grayscale-in-python/45338831\n",
    "def rgb_2_gray(rgb):\n",
    "    return np.dot(rgb[...,:3], [0.2989, 0.5870, 0.1140])\n",
    "\n",
    "# Convert training and test set to grayscale\n",
    "X_train_gray = rgb_2_gray(X_augm)"
   ]
  },
  {
   "cell_type": "code",
   "execution_count": null,
   "metadata": {},
   "outputs": [],
   "source": [
    "plot_lbl_imgs(X_train_gray,y_augm, gray=True)"
   ]
  },
  {
   "cell_type": "markdown",
   "metadata": {},
   "source": [
    "#### Shuffle data\n",
    "Shuffle (after grayscale to manipulate less data) the set so that no drift occurs after many successions of the same sign during the learning"
   ]
  },
  {
   "cell_type": "code",
   "execution_count": null,
   "metadata": {},
   "outputs": [],
   "source": [
    "def UnisonShuffle(a, b):\n",
    "    assert len(a) == len(b)\n",
    "    p = np.random.permutation(len(a))\n",
    "    return a[p], b[p]\n",
    "\n",
    "X_train_shfld, y_train_shfld = UnisonShuffle(X_train_gray, y_augm)\n",
    "# TODO Figure out how to pass the shuffled labels to plt\n",
    "#train_ds = tf.data.Dataset.from_tensor_slices((X_train_pipeline, y_train_pipeline)).shuffle(5000)\n"
   ]
  },
  {
   "cell_type": "code",
   "execution_count": null,
   "metadata": {},
   "outputs": [],
   "source": [
    "fig, ax11 = plt.subplots(1, 1, figsize=(20, 5))\n",
    "ax11.pcolor(np.asarray([y_train_shfld]), cmap = 'Greys')\n",
    "ax11.set_title(\"Shuffled training set {} images repartition\".format(len(y_train_shfld)), fontsize=18)\n",
    "ax11.tick_params(axis='both', which='major', labelsize=13)\n",
    "\n",
    "plt.show()"
   ]
  },
  {
   "cell_type": "markdown",
   "metadata": {},
   "source": [
    "#### Normalize datasets to [ -1, 1 ]\n",
    "Normalize data to obtain a mean close to 0 and try to speed up learning and reach faster convergence"
   ]
  },
  {
   "cell_type": "code",
   "execution_count": null,
   "metadata": {},
   "outputs": [],
   "source": [
    "def NormalizeGray(imgs):\n",
    "    # Subtract half the max (256) value to center around 0 then divide by the same value to obtain a [-1;1] range\n",
    "    return (imgs - 128)/128     "
   ]
  },
  {
   "cell_type": "code",
   "execution_count": null,
   "metadata": {},
   "outputs": [],
   "source": [
    "print(\"Non normalized:\")\n",
    "print(\"- Training set:\\t{:06.3f}\".format(np.mean(X_train_shfld)))\n",
    "\n",
    "X_train_nrmlzd = NormalizeGray(X_train_shfld)\n",
    "\n",
    "print(\"Normalized:\")\n",
    "print(\"- Training set:\\t{:06.3f}\".format(np.mean(X_train_nrmlzd)))\n"
   ]
  },
  {
   "cell_type": "markdown",
   "metadata": {},
   "source": [
    "### Model Architecture\n",
    "The model architecture is based on the LeNet architecture [class](https://classroom.udacity.com/nanodegrees/nd013/parts/168c60f1-cc92-450a-a91b-e427c326e6a7/modules/95d62426-4da9-49a6-9195-603e0f81d3f1/lessons/fe16d91d-bc00-455b-bc7b-a61b5e55d473/concepts/58b70b90-05a6-40c5-8b7a-e97079cb3848) as suggested:\n",
    "\n",
    "LAYER | DESCRIPTION | ENHANCE?\n",
    "--- | --- | --- |\n",
    "a | b | c |\n",
    "a | b | c |\n",
    "a | b | c |\n",
    "\n",
    "\n",
    "\n"
   ]
  },
  {
   "cell_type": "markdown",
   "metadata": {},
   "source": [
    "### Train, Validate and Test the Model"
   ]
  },
  {
   "cell_type": "markdown",
   "metadata": {},
   "source": [
    "A validation set can be used to assess how well the model is performing. A low accuracy on the training and validation\n",
    "sets imply underfitting. A high accuracy on the training set but low accuracy on the validation set implies overfitting."
   ]
  },
  {
   "cell_type": "code",
   "execution_count": null,
   "metadata": {},
   "outputs": [],
   "source": [
    "### Train your model here.\n",
    "### Calculate and report the accuracy on the training and validation set.\n",
    "### Once a final model architecture is selected, \n",
    "### the accuracy on the test set should be calculated and reported as well.\n",
    "### Feel free to use as many code cells as needed."
   ]
  },
  {
   "cell_type": "markdown",
   "metadata": {},
   "source": [
    "#### Setup TensorFlow"
   ]
  },
  {
   "cell_type": "code",
   "execution_count": null,
   "metadata": {},
   "outputs": [],
   "source": [
    "# Dataset parameters.\n",
    "num_classes = n_classes # 43 signs\n",
    "num_features = X_train[0].shape[0] * X_train[0].shape[1] # 32*32\n",
    "\n",
    "# Training parameters.\n",
    "learning_rate = 0.0005\n",
    "BATCH_SIZE = 64\n",
    "EPOCHS = math.ceil(len(X_train_nrmlzd)/BATCH_SIZE)"
   ]
  },
  {
   "cell_type": "code",
   "execution_count": null,
   "metadata": {},
   "outputs": [],
   "source": [
    "from tensorflow.contrib.layers import flatten\n",
    "\n",
    "def traffic_sign_classifier(x):\n",
    "    mu = 0\n",
    "    sigma = 0.1\n",
    "    # Got depth idea from https://github.com/agarwa65/Traffic_Sign_Classifier/blob/master/Traffic_Sign_Classifier.ipynb\n",
    "    depth = 1 #for grayscale images and 3 for color images\n",
    "    #depth = 3\n",
    "    \n",
    "    # Layer 1: Convolution 28x28x6 (32-5+1)\n",
    "    conv1_W = tf.Variable(tf.truncated_normal(shape=(5,5,1,6),mean = mu, stddev = sigma))\n",
    "    conv1_b = tf.Variable(tf.zeros(6))\n",
    "    conv1 = tf.nn.conv2d(x, conv1_W, strides=[1,1,1,1], padding='VALID') + conv1_b\n",
    "    # Activation\n",
    "    conv1 = tf.nn.relu(conv1)\n",
    "    # Pooling 14x14x6 (28/2)\n",
    "    conv1 = tf.nn.max_pool(conv1, ksize=[1,2,2,1], strides=[1,2,2,1], padding='VALID')\n",
    "    \n",
    "    # Layer 2: Convolution 10x10x16 (14-5+1)\n",
    "    conv2_W = tf.Variable(tf.truncated_normal(shape=(5,5,6,16),mean = mu, stddev = sigma))\n",
    "    conv2_b = tf.Variable(tf.zeros(16))\n",
    "    conv2 = tf.nn.conv2d(conv1, conv2_W, strides=[1,1,1,1], padding='VALID') + conv2_b\n",
    "    # Activation\n",
    "    conv2 = tf.nn.relu(conv2)\n",
    "    # Pooling 5x5x16 (10/2)\n",
    "    conv2 = tf.nn.max_pool(conv2, ksize=[1,2,2,1], strides=[1,2,2,1], padding='VALID')\n",
    "\n",
    "    # Flatten 400 (5*5*16)\n",
    "    fc0 = flatten(conv2)\n",
    "    \n",
    "    # Layer 3: Full connection 120\n",
    "    fc1_W = tf.Variable(tf.truncated_normal(shape=(400,120),mean = mu, stddev = sigma))\n",
    "    fc1_b = tf.Variable(tf.zeros(120))\n",
    "    fc1 = tf.matmul(fc0, fc1_W) + fc1_b\n",
    "    # Activation\n",
    "    fc1 = tf.nn.relu(fc1)\n",
    "    \n",
    "    # Layer 4: Full connection 84\n",
    "    fc2_W = tf.Variable(tf.truncated_normal(shape=(120,84),mean = mu, stddev = sigma))\n",
    "    fc2_b = tf.Variable(tf.zeros(84))\n",
    "    fc2 = tf.matmul(fc1, fc2_W) + fc2_b\n",
    "    # Activation\n",
    "    fc2 = tf.nn.relu(fc2)\n",
    "    \n",
    "    # Layer 4 Fully connected to classes 43\n",
    "    fc3_W = tf.Variable(tf.truncated_normal(shape=(84,n_classes),mean = mu, stddev = sigma))\n",
    "    fc3_b = tf.Variable(tf.zeros(n_classes))\n",
    "    logits = tf.matmul(fc2, fc3_W) + fc3_b\n",
    "    \n",
    "    return logits"
   ]
  },
  {
   "cell_type": "code",
   "execution_count": null,
   "metadata": {},
   "outputs": [],
   "source": [
    "x = tf.placeholder(tf.float32, (None, 32, 32, 1))\n",
    "y = tf.placeholder(tf.int32, (None)) # Sparse\n",
    "one_hot_y = tf.one_hot(y, num_classes)\n"
   ]
  },
  {
   "cell_type": "code",
   "execution_count": null,
   "metadata": {},
   "outputs": [],
   "source": [
    "logits = traffic_sign_classifier(x)\n",
    "\n",
    "cross_entropy = tf.nn.softmax_cross_entropy_with_logits(labels=one_hot_y, logits=logits)\n",
    "loss_operation = tf.reduce_mean(cross_entropy)\n",
    "optimizer = tf.train.AdamOptimizer(learning_rate = learning_rate)\n",
    "training_operation = optimizer.minimize(loss_operation)"
   ]
  },
  {
   "cell_type": "code",
   "execution_count": null,
   "metadata": {},
   "outputs": [],
   "source": [
    "correct_prediction = tf.equal(tf.argmax(logits, 1), tf.argmax(one_hot_y, 1))\n",
    "accuracy_operation = tf.reduce_mean(tf.cast(correct_prediction, tf.float32))"
   ]
  },
  {
   "cell_type": "code",
   "execution_count": null,
   "metadata": {},
   "outputs": [],
   "source": [
    "def evaluate(X_data, y_data):\n",
    "    num_examples = len(X_data)\n",
    "    total_accuracy = 0\n",
    "    sess = tf.get_default_session()\n",
    "    for offset in range(0, num_examples, BATCH_SIZE):\n",
    "        batch_x, batch_y = X_data[offset:offset+BATCH_SIZE], y_data[offset:offset+BATCH_SIZE]\n",
    "        accuracy = sess.run(accuracy_operation, feed_dict={x: batch_x, y: batch_y})\n",
    "        total_accuracy += (accuracy * len(batch_x))\n",
    "    return total_accuracy / num_examples\n",
    "\n",
    "def add_feature_axis(imgs):\n",
    "    try:\n",
    "        imgs.shape[3]\n",
    "    except:\n",
    "        imgs = imgs[:, :, :, np.newaxis]\n",
    "        pass\n",
    "    return imgs"
   ]
  },
  {
   "cell_type": "code",
   "execution_count": null,
   "metadata": {},
   "outputs": [],
   "source": [
    "# Preprocess data / Rename\n",
    "X_train_ml = add_feature_axis(X_train_nrmlzd)\n",
    "y_train_ml = y_train_shfld\n",
    "# Preprocess validation data\n",
    "X_valid_gray = rgb_2_gray(X_valid)\n",
    "X_valid_nrmlzd = NormalizeGray(X_valid_gray)\n",
    "X_valid_ml = add_feature_axis(X_valid_nrmlzd)\n",
    "y_valid_ml = y_valid"
   ]
  },
  {
   "cell_type": "code",
   "execution_count": null,
   "metadata": {},
   "outputs": [],
   "source": [
    "# Ask before retraining\n",
    "train = True\n",
    "if isfile('./lenet.meta'):\n",
    "    inp = input(\"Retrain model? (Y for Yes or anything else for No): \")    \n",
    "    if inp != \"Y\" and inp != \"Yes\" and inp != \"y\" and inp != \"yes\":\n",
    "        train = False\n",
    "\n",
    "if train:\n",
    "    print(\"Model WILL BE be retrained\")\n",
    "else:\n",
    "    print(\"Model will NOT be retrained\")"
   ]
  },
  {
   "cell_type": "code",
   "execution_count": null,
   "metadata": {},
   "outputs": [],
   "source": [
    "if train:  \n",
    "    with tf.Session() as sess:\n",
    "        validation_accuracy = None\n",
    "        sess.run(tf.global_variables_initializer())\n",
    "        num_examples = len(X_train_ml)\n",
    "\n",
    "        print(\"Training: epochs:{}, learning rate:{}, batch size:{}...\".format(EPOCHS, learning_rate, BATCH_SIZE))\n",
    "        for i in range(EPOCHS):\n",
    "            print(\"EPOCH {} ...\".format(i+1))\n",
    "            for offset in range(0, num_examples, BATCH_SIZE):\n",
    "                end = offset + BATCH_SIZE\n",
    "                batch_x, batch_y = X_train_ml[offset:end], y_train_ml[offset:end]\n",
    "                sess.run(training_operation, feed_dict={x: batch_x, y: batch_y})\n",
    "\n",
    "            training_accuracy  = evaluate(X_train_ml, y_train_ml)\n",
    "            validation_accuracy = evaluate(X_valid_ml, y_valid_ml)\n",
    "            print(\"Training Accuracy = {:.3f}\".format(training_accuracy ))\n",
    "            print(\"Validation Accuracy = {:.3f}\".format(validation_accuracy))\n",
    "\n",
    "        try:\n",
    "            saver\n",
    "        except NameError:\n",
    "            saver = tf.train.Saver()\n",
    "        saver.save(sess, 'lenet')\n",
    "        print(\"Model saved\")\n",
    "        print(\"Validation Accuracy = {:.3f}\".format(validation_accuracy))"
   ]
  },
  {
   "cell_type": "markdown",
   "metadata": {},
   "source": [
    "#### Trials & Results\n",
    "##### 1. Lenet from course\n",
    "Met issues with placeholders and data set dimensions along with TensorFlow/Python version (abandonned trying to use TF 2.0)\n",
    "No parameters tuning was performed, used course values\n",
    "Normal LeNet implementation yielded around 0.05 accuracy with 5 epochs, 128 batch size, 0.1 learning rate\n",
    "##### 2. Parameters optimization\n",
    "Set epochs to 10 and batch size to 256 to help reach better accuracy without degrading speed too much\n",
    " * No average accuracy change\n",
    "\n",
    "Tried descending learning rates to find sweet spot: \n",
    " * 0.1 -> 0.054 (Does not converge)\n",
    " * 0.01 -> 0.87;0.93]\n",
    " * 0.001 -> [0.81;0.92]\n",
    " * 0.0001 -> [0.59;0.87]\n",
    " * 0.00001 -> 0.09 (Too slow to converge)\n",
    " \n",
    "Tried to raise number of epochs to 60 for between 0.001 and 0.0001 to see if better results can be achieved:\n",
    " * 0.0005 -> [0.92;0.93] : Keeping this value for now\n",
    "\n",
    "##### 3. Data augmentation\n",
    "Using 60 epochs and 0.0005 learning rate and 128 batch size\n",
    " * 0.939\n",
    "\n",
    "Noticed that 60*128 is too low to take in account all available training data.\n",
    "After some research, setting batch size to 64 and epochs to length of X_train / 64\n",
    " * https://medium.com/mini-distill/effect-of-batch-size-on-training-dynamics-21c14f7a716e\n",
    " * https://www.ijstr.org/final-print/jun2020/Significance-Of-Epochs-On-Training-A-Neural-Network.pdf\n",
    "\n",
    "Using 64 batch size, 706 epochs and 0.0005 learning rate\n",
    " * 0.945\n",
    " \n",
    "##### 4. Future\n",
    " * Try color \n",
    " * Bring modifications to LeNet"
   ]
  },
  {
   "cell_type": "markdown",
   "metadata": {},
   "source": [
    "---\n",
    "\n",
    "## Step 3: Test a Model on New Images\n",
    "\n",
    "To give yourself more insight into how your model is working, download at least five pictures of German traffic signs from the web and use your model to predict the traffic sign type.\n",
    "\n",
    "You may find `signnames.csv` useful as it contains mappings from the class id (integer) to the actual sign name."
   ]
  },
  {
   "cell_type": "markdown",
   "metadata": {},
   "source": [
    "### Load and Output the Images"
   ]
  },
  {
   "cell_type": "code",
   "execution_count": null,
   "metadata": {},
   "outputs": [],
   "source": [
    "### Load the images and plot them here.\n",
    "### Feel free to use as many code cells as needed.\n",
    "#reading in an image\n",
    "\n",
    "\n",
    "X_new = []\n",
    "\n",
    "new_imgs_dir = \"./data/new_images\"\n",
    "    \n",
    "X_new = []\n",
    "y_new = [17, 9, 25, 23, 14]\n",
    "\n",
    "new_imgs = [join(new_imgs_dir, f) for f in listdir(new_imgs_dir) if isfile(join(new_imgs_dir, f))]\n",
    "for new_img in new_imgs:    \n",
    "    #X_new.append(Image.open(new_img))\n",
    "    X_new.append(cv2.cvtColor(cv2.imread(new_img), cv2.COLOR_BGR2RGB))\n",
    "    \n",
    "plot_imgs(X_new,y_new)"
   ]
  },
  {
   "cell_type": "markdown",
   "metadata": {},
   "source": [
    "### Predict the Sign Type for Each Image"
   ]
  },
  {
   "cell_type": "code",
   "execution_count": null,
   "metadata": {},
   "outputs": [],
   "source": [
    "### Run the predictions here and use the model to output the prediction for each image.\n",
    "### Make sure to pre-process the images with the same pre-processing pipeline used earlier.\n",
    "### Feel free to use as many code cells as needed."
   ]
  },
  {
   "cell_type": "markdown",
   "metadata": {},
   "source": [
    "#### Resize"
   ]
  },
  {
   "cell_type": "code",
   "execution_count": null,
   "metadata": {
    "scrolled": true
   },
   "outputs": [],
   "source": [
    "for i in range(len(X_new)):\n",
    "    X_new[i] = resize_img(X_new[i], interpolation=cv2.INTER_AREA)\n",
    "    X_new[i] = np.array(X_new[i])\n",
    "\n",
    "X_new = np.array(X_new)\n",
    "\n",
    "plot_imgs(X_new,y_new)"
   ]
  },
  {
   "cell_type": "markdown",
   "metadata": {},
   "source": [
    "#### Grayscale"
   ]
  },
  {
   "cell_type": "code",
   "execution_count": null,
   "metadata": {},
   "outputs": [],
   "source": [
    "X_new_gray = rgb_2_gray(X_new)\n",
    "plot_imgs(X_new_gray,y_new, gray=True)"
   ]
  },
  {
   "cell_type": "markdown",
   "metadata": {},
   "source": [
    "#### Normalize"
   ]
  },
  {
   "cell_type": "code",
   "execution_count": null,
   "metadata": {},
   "outputs": [],
   "source": [
    "print(\"Non normalized:\\t{:06.3f}\".format(np.mean(X_new_gray)))\n",
    "X_new_nrmlzd = NormalizeGray(X_new_gray)\n",
    "print(\"Normalized:\\t{:06.3f}\".format(np.mean(X_new_nrmlzd)))"
   ]
  },
  {
   "cell_type": "code",
   "execution_count": null,
   "metadata": {},
   "outputs": [],
   "source": [
    "X_new_ml = add_feature_axis(X_new_nrmlzd)\n",
    "y_new_ml = y_new"
   ]
  },
  {
   "cell_type": "markdown",
   "metadata": {},
   "source": [
    "### Analyze Performance"
   ]
  },
  {
   "cell_type": "code",
   "execution_count": null,
   "metadata": {},
   "outputs": [],
   "source": [
    "### Calculate the accuracy for these 5 new images. \n",
    "### For example, if the model predicted 1 out of 5 signs correctly, it's 20% accurate on these new images."
   ]
  },
  {
   "cell_type": "code",
   "execution_count": null,
   "metadata": {},
   "outputs": [],
   "source": [
    "plot_imgs(X_new_ml,y_new_ml, gray=True)"
   ]
  },
  {
   "cell_type": "code",
   "execution_count": null,
   "metadata": {},
   "outputs": [],
   "source": [
    "# Preprocess test data\n",
    "X_test_gray = rgb_2_gray(X_test)\n",
    "X_test_nrmlzd = NormalizeGray(X_test_gray)\n",
    "X_test_ml = add_feature_axis(X_test_nrmlzd)\n",
    "y_test_ml = y_test"
   ]
  },
  {
   "cell_type": "code",
   "execution_count": null,
   "metadata": {},
   "outputs": [],
   "source": [
    "with tf.Session() as sess:    \n",
    "    sess.run(tf.global_variables_initializer())\n",
    "    saver = tf.train.import_meta_graph('./lenet.meta')\n",
    "    saver.restore(sess, \"./lenet\")    \n",
    "    test_accuracy = evaluate(X_test_ml, y_test_ml)\n",
    "    print(\"Test set Accuracy = {:.3f}\".format(test_accuracy))"
   ]
  },
  {
   "cell_type": "code",
   "execution_count": null,
   "metadata": {},
   "outputs": [],
   "source": [
    "#Reminder: logits = traffic_sign_classifier(x)\n",
    "prediction=tf.argmax(logits,1)\n",
    "\n",
    "def predict(X_data):\n",
    "    sess = tf.get_default_session()    \n",
    "    predictions = sess.run(prediction, feed_dict={x: X_data})\n",
    "    return predictions\n",
    "\n",
    "with tf.Session() as sess:\n",
    "    sess.run(tf.global_variables_initializer())\n",
    "    saver = tf.train.import_meta_graph('./lenet.meta')\n",
    "    saver.restore(sess, \"./lenet\")\n",
    "    predictions = predict(X_new_ml)\n",
    "    \n",
    "    plot_imgs(X_new_ml,predictions, gray=True)    "
   ]
  },
  {
   "cell_type": "markdown",
   "metadata": {},
   "source": [
    "### Output Top 5 Softmax Probabilities For Each Image Found on the Web"
   ]
  },
  {
   "cell_type": "markdown",
   "metadata": {},
   "source": [
    "For each of the new images, print out the model's softmax probabilities to show the **certainty** of the model's predictions (limit the output to the top 5 probabilities for each image). [`tf.nn.top_k`](https://www.tensorflow.org/versions/r0.12/api_docs/python/nn.html#top_k) could prove helpful here. \n",
    "\n",
    "The example below demonstrates how tf.nn.top_k can be used to find the top k predictions for each image.\n",
    "\n",
    "`tf.nn.top_k` will return the values and indices (class ids) of the top k predictions. So if k=3, for each sign, it'll return the 3 largest probabilities (out of a possible 43) and the correspoding class ids.\n",
    "\n",
    "Take this numpy array as an example. The values in the array represent predictions. The array contains softmax probabilities for five candidate images with six possible classes. `tf.nn.top_k` is used to choose the three classes with the highest probability:\n",
    "\n",
    "```\n",
    "# (5, 6) array\n",
    "a = np.array([[ 0.24879643,  0.07032244,  0.12641572,  0.34763842,  0.07893497,\n",
    "         0.12789202],\n",
    "       [ 0.28086119,  0.27569815,  0.08594638,  0.0178669 ,  0.18063401,\n",
    "         0.15899337],\n",
    "       [ 0.26076848,  0.23664738,  0.08020603,  0.07001922,  0.1134371 ,\n",
    "         0.23892179],\n",
    "       [ 0.11943333,  0.29198961,  0.02605103,  0.26234032,  0.1351348 ,\n",
    "         0.16505091],\n",
    "       [ 0.09561176,  0.34396535,  0.0643941 ,  0.16240774,  0.24206137,\n",
    "         0.09155967]])\n",
    "```\n",
    "\n",
    "Running it through `sess.run(tf.nn.top_k(tf.constant(a), k=3))` produces:\n",
    "\n",
    "```\n",
    "TopKV2(values=array([[ 0.34763842,  0.24879643,  0.12789202],\n",
    "       [ 0.28086119,  0.27569815,  0.18063401],\n",
    "       [ 0.26076848,  0.23892179,  0.23664738],\n",
    "       [ 0.29198961,  0.26234032,  0.16505091],\n",
    "       [ 0.34396535,  0.24206137,  0.16240774]]), indices=array([[3, 0, 5],\n",
    "       [0, 1, 4],\n",
    "       [0, 5, 1],\n",
    "       [1, 3, 5],\n",
    "       [1, 4, 3]], dtype=int32))\n",
    "```\n",
    "\n",
    "Looking just at the first row we get `[ 0.34763842,  0.24879643,  0.12789202]`, you can confirm these are the 3 largest probabilities in `a`. You'll also notice `[3, 0, 5]` are the corresponding indices."
   ]
  },
  {
   "cell_type": "code",
   "execution_count": null,
   "metadata": {},
   "outputs": [],
   "source": [
    "### Print out the top five softmax probabilities for the predictions on the German traffic sign images found on the web. \n",
    "### Feel free to use as many code cells as needed."
   ]
  },
  {
   "cell_type": "code",
   "execution_count": null,
   "metadata": {},
   "outputs": [],
   "source": [
    "def plotTop_k(imgs, top_k):\n",
    "    probabilities = top_k.values\n",
    "    indices = top_k.indices\n",
    "    assert (len(imgs) == len(indices))\n",
    "    \n",
    "    topk_imgs = []\n",
    "    topk_headers = []\n",
    "    topk_lbls = []\n",
    "    \n",
    "    for i in range(len(imgs)):\n",
    "        # Append new image with empty title\n",
    "        topk_imgs.append(imgs[i])\n",
    "        topk_headers.append(\"\")\n",
    "        \n",
    "        # Append for each top K       \n",
    "        for j in range(len(indices[i])):\n",
    "            lbl = indices[i][j]\n",
    "            # Find a random image in the training set\n",
    "            topk_imgs.append(rand_lbl_img(X_train, y_train, lbl))           \n",
    "            # Add probability and label as header\n",
    "            probability = probabilities[i][j] * 100\n",
    "            header = \"{:.2f}% : {:>2}:{:.25}\".format(probability, lbl, labels_sign_name[lbl])            \n",
    "            topk_headers.append(header)\n",
    "            \n",
    "    plot_imgs(topk_imgs,header=topk_headers, imgs_limit=100)"
   ]
  },
  {
   "cell_type": "code",
   "execution_count": null,
   "metadata": {},
   "outputs": [],
   "source": [
    "### Print out the top five softmax probabilities for the predictions on the German traffic sign images found on the web. \n",
    "### Feel free to use as many code cells as needed.\n",
    "softmax_logits = tf.nn.softmax(logits)\n",
    "top_k=tf.nn.top_k(softmax_logits,5)\n",
    "\n",
    "with tf.Session() as sess:\n",
    "    sess.run(tf.global_variables_initializer())\n",
    "    saver = tf.train.import_meta_graph('./lenet.meta')\n",
    "    saver.restore(sess, \"./lenet\")\n",
    "    top_k = sess.run(top_k, feed_dict={x: X_new_ml})\n",
    "    \n",
    "    plotTop_k(X_new, top_k)"
   ]
  },
  {
   "cell_type": "markdown",
   "metadata": {},
   "source": [
    "### Project Writeup\n",
    "\n",
    "Once you have completed the code implementation, document your results in a project writeup using this [template](https://github.com/udacity/CarND-Traffic-Sign-Classifier-Project/blob/master/writeup_template.md) as a guide. The writeup can be in a markdown or pdf file. "
   ]
  },
  {
   "cell_type": "markdown",
   "metadata": {},
   "source": [
    "> **Note**: Once you have completed all of the code implementations and successfully answered each question above, you may finalize your work by exporting the iPython Notebook as an HTML document. You can do this by using the menu above and navigating to  \\n\",\n",
    "    \"**File -> Download as -> HTML (.html)**. Include the finished document along with this notebook as your submission."
   ]
  },
  {
   "cell_type": "markdown",
   "metadata": {},
   "source": [
    "---\n",
    "\n",
    "## Step 4 (Optional): Visualize the Neural Network's State with Test Images\n",
    "\n",
    " This Section is not required to complete but acts as an additional excersise for understaning the output of a neural network's weights. While neural networks can be a great learning device they are often referred to as a black box. We can understand what the weights of a neural network look like better by plotting their feature maps. After successfully training your neural network you can see what it's feature maps look like by plotting the output of the network's weight layers in response to a test stimuli image. From these plotted feature maps, it's possible to see what characteristics of an image the network finds interesting. For a sign, maybe the inner network feature maps react with high activation to the sign's boundary outline or to the contrast in the sign's painted symbol.\n",
    "\n",
    " Provided for you below is the function code that allows you to get the visualization output of any tensorflow weight layer you want. The inputs to the function should be a stimuli image, one used during training or a new one you provided, and then the tensorflow variable name that represents the layer's state during the training process, for instance if you wanted to see what the [LeNet lab's](https://classroom.udacity.com/nanodegrees/nd013/parts/fbf77062-5703-404e-b60c-95b78b2f3f9e/modules/6df7ae49-c61c-4bb2-a23e-6527e69209ec/lessons/601ae704-1035-4287-8b11-e2c2716217ad/concepts/d4aca031-508f-4e0b-b493-e7b706120f81) feature maps looked like for it's second convolutional layer you could enter conv2 as the tf_activation variable.\n",
    "\n",
    "For an example of what feature map outputs look like, check out NVIDIA's results in their paper [End-to-End Deep Learning for Self-Driving Cars](https://devblogs.nvidia.com/parallelforall/deep-learning-self-driving-cars/) in the section Visualization of internal CNN State. NVIDIA was able to show that their network's inner weights had high activations to road boundary lines by comparing feature maps from an image with a clear path to one without. Try experimenting with a similar test to show that your trained network's weights are looking for interesting features, whether it's looking at differences in feature maps from images with or without a sign, or even what feature maps look like in a trained network vs a completely untrained one on the same sign image.\n",
    "\n",
    "<figure>\n",
    " <img src=\"visualize_cnn.png\" width=\"380\" alt=\"Combined Image\" />\n",
    " <figcaption>\n",
    " <p></p> \n",
    " <p style=\"text-align: center;\"> Your output should look something like this (above)</p> \n",
    " </figcaption>\n",
    "</figure>\n",
    " <p></p> \n"
   ]
  },
  {
   "cell_type": "code",
   "execution_count": null,
   "metadata": {},
   "outputs": [],
   "source": [
    "### Visualize your network's feature maps here.\n",
    "### Feel free to use as many code cells as needed.\n",
    "\n",
    "# image_input: the test image being fed into the network to produce the feature maps\n",
    "# tf_activation: should be a tf variable name used during your training procedure that represents the calculated state of a specific weight layer\n",
    "# activation_min/max: can be used to view the activation contrast in more detail, by default matplot sets min and max to the actual min and max values of the output\n",
    "# plt_num: used to plot out multiple different weight feature map sets on the same block, just extend the plt number for each new feature map entry\n",
    "\n",
    "def outputFeatureMap(image_input, tf_activation, activation_min=-1, activation_max=-1 ,plt_num=1):\n",
    "    # Here make sure to preprocess your image_input in a way your network expects\n",
    "    # with size, normalization, ect if needed\n",
    "    # image_input =\n",
    "    # Note: x should be the same name as your network's tensorflow data placeholder variable\n",
    "    # If you get an error tf_activation is not defined it may be having trouble accessing the variable from inside a function\n",
    "    activation = tf_activation.eval(session=sess,feed_dict={x : image_input})\n",
    "    featuremaps = activation.shape[3]\n",
    "    plt.figure(plt_num, figsize=(15,15))\n",
    "    for featuremap in range(featuremaps):\n",
    "        plt.subplot(6,8, featuremap+1) # sets the number of feature maps to show on each row and column\n",
    "        plt.title('FeatureMap ' + str(featuremap)) # displays the feature map number\n",
    "        if activation_min != -1 & activation_max != -1:\n",
    "            plt.imshow(activation[0,:,:, featuremap], interpolation=\"nearest\", vmin =activation_min, vmax=activation_max, cmap=\"gray\")\n",
    "        elif activation_max != -1:\n",
    "            plt.imshow(activation[0,:,:, featuremap], interpolation=\"nearest\", vmax=activation_max, cmap=\"gray\")\n",
    "        elif activation_min !=-1:\n",
    "            plt.imshow(activation[0,:,:, featuremap], interpolation=\"nearest\", vmin=activation_min, cmap=\"gray\")\n",
    "        else:\n",
    "            plt.imshow(activation[0,:,:, featuremap], interpolation=\"nearest\", cmap=\"gray\")"
   ]
  }
 ],
 "metadata": {
  "anaconda-cloud": {},
  "kernelspec": {
   "display_name": "Python 3",
   "language": "python",
   "name": "python3"
  },
  "language_info": {
   "codemirror_mode": {
    "name": "ipython",
    "version": 3
   },
   "file_extension": ".py",
   "mimetype": "text/x-python",
   "name": "python",
   "nbconvert_exporter": "python",
   "pygments_lexer": "ipython3",
   "version": "3.7.10"
  }
 },
 "nbformat": 4,
 "nbformat_minor": 1
}
